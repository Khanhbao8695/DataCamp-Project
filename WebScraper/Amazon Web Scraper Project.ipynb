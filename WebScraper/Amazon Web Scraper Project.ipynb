{
 "cells": [
  {
   "cell_type": "code",
   "execution_count": 127,
   "id": "cd263c4e",
   "metadata": {},
   "outputs": [],
   "source": [
    "# Import packages\n",
    "# For get data from the web\n",
    "from bs4 import BeautifulSoup\n",
    "import requests\n",
    "import time\n",
    "import datetime\n",
    "import smtplib\n",
    "# For converting into csv file\n",
    "import csv \n",
    "# Pandas package\n",
    "import pandas as pd "
   ]
  },
  {
   "cell_type": "code",
   "execution_count": 28,
   "id": "9a282bf7",
   "metadata": {},
   "outputs": [],
   "source": [
    "# Connect to Website and pull in data\n",
    "\n",
    "# Add url link to the product\n",
    "URL = 'https://www.amazon.com/Philips-Norelco-MG7791-40-Grooming-dp-B07S6V3P94/dp/B07S6V3P94/'\n",
    "# use this link go get the headers: https://httpbin.org/get\n",
    "headers = {\"User-Agent\": \"Mozilla/5.0 (Windows NT 10.0; Win64; x64) AppleWebKit/537.36 (KHTML, like Gecko) Chrome/78.0.3904.108 Safari/537.36\", \"Accept-Encoding\":\"gzip, deflate\", \"Accept\":\"text/html,application/xhtml+xml,application/xml;q=0.9,*/*;q=0.8\", \"DNT\":\"1\",\"Connection\":\"close\", \"Upgrade-Insecure-Requests\":\"1\"}\n",
    "#Request the URL and the Headers\n",
    "page = requests.get(URL, headers=headers)\n",
    "# Get content\n",
    "soup1 = BeautifulSoup(page.content, \"html.parser\")\n",
    "# Make it easier to read, and organized \n",
    "soup2 = BeautifulSoup(soup1.prettify(), \"html.parser\")\n"
   ]
  },
  {
   "cell_type": "code",
   "execution_count": 91,
   "id": "fd050e8a",
   "metadata": {},
   "outputs": [
    {
     "name": "stdout",
     "output_type": "stream",
     "text": [
      "product Title =  Philips Norelco MG7791/40 Multi Groomer 29 Piece Men's Grooming Kit - No Blade Oil Needed\n"
     ]
    }
   ],
   "source": [
    "# Get product title\n",
    "try:\n",
    "    title = soup2.find(id='productTitle').get_text()\n",
    "        # Title as a string value, remove , in a title text\n",
    "    title = title.strip().replace(',', '')\n",
    "\n",
    "except AttributeError:\n",
    "        title_str = \"NA\"\n",
    "\n",
    "print(\"product Title = \", title_str)\n"
   ]
  },
  {
   "cell_type": "code",
   "execution_count": 92,
   "id": "28c7de95",
   "metadata": {},
   "outputs": [
    {
     "name": "stdout",
     "output_type": "stream",
     "text": [
      "Products price =  95.95\n"
     ]
    }
   ],
   "source": [
    "#get product price\n",
    "\n",
    "try:\n",
    "    price = soup2.find(id= 'priceblock_dealprice').get_text()\n",
    "        # we are omitting unnecessary spaces and dollar sign form our string\n",
    "    price= price.strip()[1:]\n",
    "except AttributeError:\n",
    "        price = \"NA\"       \n",
    "print(\"Products price = \", price)\n",
    " "
   ]
  },
  {
   "cell_type": "code",
   "execution_count": 99,
   "id": "99a40614",
   "metadata": {},
   "outputs": [
    {
     "name": "stdout",
     "output_type": "stream",
     "text": [
      "Overall rating = 4.7 out of 5 stars\n"
     ]
    }
   ],
   "source": [
    "# Get product rating\n",
    "try:\n",
    "    rating= soup2.find(\"i\",attrs={'class':'a-icon a-icon-star-medium a-star-medium-4-5 averageStarRating'}).get_text()\n",
    "    rating = rating.strip()[0:]\n",
    "except AttributeError:\n",
    "        rating = \"NA\" \n",
    "print(\"Overall rating =\", rating)"
   ]
  },
  {
   "cell_type": "code",
   "execution_count": 124,
   "id": "1687b0f7",
   "metadata": {},
   "outputs": [
    {
     "name": "stdout",
     "output_type": "stream",
     "text": [
      "Total reviews =  1742 ratings\n"
     ]
    }
   ],
   "source": [
    "# get number of reviews\n",
    "try:\n",
    "    review_count = soup2.find(\"span\", attrs={'id': 'acrCustomerReviewText'})\n",
    "    #Remove trailing and , in the review_count\n",
    "    review_count =review_count.string.strip().replace(',', '')\n",
    "except AttributeError:\n",
    "        review_count = \"NA\"\n",
    "print(\"Total reviews = \", review_count)"
   ]
  },
  {
   "cell_type": "code",
   "execution_count": 100,
   "id": "5aa6aec9",
   "metadata": {},
   "outputs": [
    {
     "name": "stdout",
     "output_type": "stream",
     "text": [
      "Availability =  In Stock.\n"
     ]
    }
   ],
   "source": [
    "# get availiblility status\n",
    "try:\n",
    "        available = soup2.find(\"div\", attrs={'id': 'availability'}).get_text()\n",
    "        available = available.strip()[0:]\n",
    "except AttributeError:\n",
    "        available = \"NA\"\n",
    "print(\"Availability = \", available)"
   ]
  },
  {
   "cell_type": "code",
   "execution_count": 125,
   "id": "31dfc704",
   "metadata": {},
   "outputs": [
    {
     "name": "stdout",
     "output_type": "stream",
     "text": [
      "2021-10-06\n"
     ]
    }
   ],
   "source": [
    "# Create a Timestamp for your output to track when data was collected\n",
    "today = datetime.date.today()\n",
    "\n",
    "print(today)"
   ]
  },
  {
   "cell_type": "code",
   "execution_count": 133,
   "id": "5f6fbda6",
   "metadata": {},
   "outputs": [],
   "source": [
    "# Create CSV and write headers and data into the file\n",
    "header = ['Title', 'Price', 'Date', 'Availability', 'Overall rating', 'Total reviews']\n",
    "data = [title, price, today, available, rating, review_count]\n",
    "#encode UTF8 to get rid of unnecessary characters like ž, ?, etc\n",
    "# save csv file to our computer\n",
    "with open('AmazonWebScraperDataset.csv', 'w', newline='', encoding='UTF8') as f:\n",
    "    writer = csv.writer(f)\n",
    "    writer.writerow(header)\n",
    "    writer.writerow(data)\n",
    "    \n"
   ]
  },
  {
   "cell_type": "code",
   "execution_count": 132,
   "id": "17f49156",
   "metadata": {},
   "outputs": [
    {
     "name": "stdout",
     "output_type": "stream",
     "text": [
      "                                               Title  Price       Date  \\\n",
      "0  Philips Norelco MG7791/40 Multi Groomer 29 Pie...  95.95  10/6/2021   \n",
      "\n",
      "  Availability      Overall rating Total reviews  \n",
      "0    In Stock.  4.7 out of 5 stars  1742 ratings  \n"
     ]
    }
   ],
   "source": [
    "# create df dataset to get all product information \n",
    "df = pd.read_csv(r'C:\\Users\\nguye\\Desktop\\Data Science Stuff\\Projects\\Python\\AmazonWebScraperDataset.csv')\n",
    "print(df)"
   ]
  },
  {
   "cell_type": "code",
   "execution_count": 139,
   "id": "48800fea",
   "metadata": {},
   "outputs": [],
   "source": [
    "def check_product():\n",
    "    # Connect to Website and pull in data\n",
    "\n",
    "    # Add url link to the product\n",
    "    URL = 'https://www.amazon.com/Philips-Norelco-MG7791-40-Grooming-dp-B07S6V3P94/dp/B07S6V3P94/'\n",
    "    # use this link go get the headers: https://httpbin.org/get\n",
    "    headers = {\"User-Agent\": \"Mozilla/5.0 (Windows NT 10.0; Win64; x64) AppleWebKit/537.36 (KHTML, like Gecko) Chrome/78.0.3904.108 Safari/537.36\", \"Accept-Encoding\":\"gzip, deflate\", \"Accept\":\"text/html,application/xhtml+xml,application/xml;q=0.9,*/*;q=0.8\", \"DNT\":\"1\",\"Connection\":\"close\", \"Upgrade-Insecure-Requests\":\"1\"}\n",
    "    #Request the URL and the Headers\n",
    "    page = requests.get(URL, headers=headers)\n",
    "    # Get content\n",
    "    soup1 = BeautifulSoup(page.content, \"html.parser\")\n",
    "    # Make it easier to read, and organized \n",
    "    soup2 = BeautifulSoup(soup1.prettify(), \"html.parser\")\n",
    "    \n",
    "    # Get product title\n",
    "    try:\n",
    "        title = soup2.find(id='productTitle').get_text()\n",
    "        # Title as a string value, remove , in a title text\n",
    "        title = title.strip().replace(',', '')\n",
    "\n",
    "    except AttributeError:\n",
    "            title = \"NA\"\n",
    "\n",
    "    print(\"product Title = \", title)\n",
    "    \n",
    "    #get product price\n",
    "    try:\n",
    "        price = soup2.find(id= 'priceblock_dealprice').get_text()\n",
    "        # we are omitting unnecessary spaces and dollar sign form our string\n",
    "        price= price.strip()[1:]\n",
    "    except AttributeError:\n",
    "        price = \"NA\"       \n",
    "    print(\"Products price = \", price)\n",
    "     # Get product rating\n",
    "    try:\n",
    "        rating= soup2.find(\"i\",attrs={'class':'a-icon a-icon-star-medium a-star-medium-4-5 averageStarRating'}).get_text()\n",
    "        rating = rating.strip()[0:]\n",
    "    except AttributeError:\n",
    "        rating = \"NA\" \n",
    "    print(\"Overall rating =\", rating)\n",
    "    # get number of reviews\n",
    "    try:\n",
    "        review_count = soup2.find(\"span\", attrs={'id': 'acrCustomerReviewText'})\n",
    "    #Remove trailing and , in the review_count\n",
    "        review_count =review_count.string.strip().replace(',', '')\n",
    "    except AttributeError:\n",
    "            review_count = \"NA\"\n",
    "    print(\"Total reviews = \", review_count)\n",
    "    # get availiblility status\n",
    "    try:\n",
    "            available = soup2.find(\"div\", attrs={'id': 'availability'}).get_text()\n",
    "            available = available.strip()[0:]\n",
    "    except AttributeError:\n",
    "            available = \"NA\"\n",
    "    print(\"Availability = \", available)\n",
    "    import datetime\n",
    "    today = datetime.date.today()\n",
    "    print(today)\n",
    "    import csv \n",
    "    header = ['Title', 'Price', 'Date', 'Availability', 'Overall rating', 'Total reviews']\n",
    "    data = [title, price, today, available, rating, review_count]\n",
    "    #encode UTF8 to get rid of unnecessary characters like ž, ?, etc\n",
    "    # save csv file to our computer\n",
    "    with open('AmazonWebScraperDataset.csv', 'w', newline='', encoding='UTF8') as f:\n",
    "        writer = csv.writer(f)\n",
    "        writer.writerow(header)\n",
    "        writer.writerow(data)"
   ]
  },
  {
   "cell_type": "code",
   "execution_count": 140,
   "id": "b20670ca",
   "metadata": {},
   "outputs": [
    {
     "name": "stdout",
     "output_type": "stream",
     "text": [
      "product Title =  Philips Norelco MG7791/40 Multi Groomer 29 Piece Men's Grooming Kit - No Blade Oil Needed\n",
      "Products price =  95.95\n",
      "Overall rating = 4.7 out of 5 stars\n",
      "Total reviews =  1742 ratings\n",
      "Availability =  In Stock.\n",
      "2021-10-06\n"
     ]
    }
   ],
   "source": [
    "#Check our function\n",
    "check_product()"
   ]
  }
 ],
 "metadata": {
  "kernelspec": {
   "display_name": "Python 3",
   "language": "python",
   "name": "python3"
  },
  "language_info": {
   "codemirror_mode": {
    "name": "ipython",
    "version": 3
   },
   "file_extension": ".py",
   "mimetype": "text/x-python",
   "name": "python",
   "nbconvert_exporter": "python",
   "pygments_lexer": "ipython3",
   "version": "3.8.10"
  }
 },
 "nbformat": 4,
 "nbformat_minor": 5
}
